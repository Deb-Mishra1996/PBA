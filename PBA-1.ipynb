{
 "cells": [
  {
   "cell_type": "markdown",
   "id": "3764fa9a",
   "metadata": {},
   "source": [
    "1. In the below elements which of them are values or an expression? eg:- values can be integer or string and expressions will be mathematical operators."
   ]
  },
  {
   "cell_type": "markdown",
   "id": "c98045b3",
   "metadata": {},
   "source": [
    "#Values or an expression: 'hello', -87.8, 6 \n",
    "#Mathematical operator: *,-, /, +"
   ]
  },
  {
   "cell_type": "markdown",
   "id": "79c3db7d",
   "metadata": {},
   "source": [
    "2. What is the difference between string and variable?"
   ]
  },
  {
   "cell_type": "markdown",
   "id": "7e3cb5ba",
   "metadata": {},
   "source": [
    "String: Strings in python are surrouded by single quote or double quote. These are array of bytes representing unicode characters. \n",
    "\n",
    "Variable: variables are used to point or refer an object. Data can be stored inside an object, we just assign the object to a variable variable and we can refer it by the name."
   ]
  },
  {
   "cell_type": "markdown",
   "id": "5ffc4c29",
   "metadata": {},
   "source": [
    "a='5' #a=variable"
   ]
  },
  {
   "cell_type": "markdown",
   "id": "73536c1b",
   "metadata": {},
   "source": [
    "type(a)"
   ]
  },
  {
   "cell_type": "markdown",
   "id": "5d54fe60",
   "metadata": {},
   "source": [
    "3. Describe three different data types."
   ]
  },
  {
   "cell_type": "markdown",
   "id": "98c49c2a",
   "metadata": {},
   "source": [
    "List:\n",
    "i)List are ordered collection of data and list in python can be created by just putting square bracket around group of elements and the elements can be anything as integer, float or string.\n",
    "ii)To access the list items we can use index, either positive or negetive both will work. We would be able to change the element within a list that's why the list is called as mutable data type.\n"
   ]
  },
  {
   "cell_type": "code",
   "execution_count": 1,
   "id": "a4f0f4ec",
   "metadata": {},
   "outputs": [],
   "source": [
    "L=[1,2,3,\"deb\",\"Mishra\"]"
   ]
  },
  {
   "cell_type": "code",
   "execution_count": 2,
   "id": "e8e4ba6e",
   "metadata": {},
   "outputs": [],
   "source": [
    "L[0]=\"name\""
   ]
  },
  {
   "cell_type": "markdown",
   "id": "1357cf90",
   "metadata": {},
   "source": [
    "L[-2]"
   ]
  },
  {
   "cell_type": "code",
   "execution_count": 13,
   "id": "46bc9f94",
   "metadata": {},
   "outputs": [
    {
     "data": {
      "text/plain": [
       "'name'"
      ]
     },
     "execution_count": 13,
     "metadata": {},
     "output_type": "execute_result"
    }
   ],
   "source": [
    "L[0]"
   ]
  },
  {
   "cell_type": "markdown",
   "id": "cf2f1087",
   "metadata": {},
   "source": [
    "Tuple:\n",
    "i)Tuple are ordered collection so we would be able to find the element through indexing.\n",
    "ii)We would be able to create a tuple by separating data with comma. paranthesis is not a mandatory option, without paranthesis also it will be a tuple.\n",
    "iii)Tuples are immutable and we would not be able to modify the items inside a tuple\n"
   ]
  },
  {
   "cell_type": "code",
   "execution_count": 14,
   "id": "d92ff3a2",
   "metadata": {},
   "outputs": [],
   "source": [
    "t=1,2,3,4,5"
   ]
  },
  {
   "cell_type": "code",
   "execution_count": 16,
   "id": "bde893f9",
   "metadata": {},
   "outputs": [
    {
     "data": {
      "text/plain": [
       "tuple"
      ]
     },
     "execution_count": 16,
     "metadata": {},
     "output_type": "execute_result"
    }
   ],
   "source": [
    "type(t)"
   ]
  },
  {
   "cell_type": "code",
   "execution_count": 18,
   "id": "381b8912",
   "metadata": {},
   "outputs": [
    {
     "name": "stdout",
     "output_type": "stream",
     "text": [
      "We would not be able to assign items to tuple\n"
     ]
    }
   ],
   "source": [
    "#We would not be able to assign elements as tuples are immutable\n",
    "try:\n",
    "    t[2]=0\n",
    "except Exception as e:\n",
    "    print('We would not be able to assign items to tuple')"
   ]
  },
  {
   "cell_type": "markdown",
   "id": "169e6142",
   "metadata": {},
   "source": [
    "Set:\n",
    "1)Set is unordered collection of data types which is iterable, mutable and it has no duplicate elements.\n",
    "2)We would be able to create a set by set function or by placing a sequesnce inside curly brackets\n",
    "3)Type of element inside a set can be different."
   ]
  },
  {
   "cell_type": "code",
   "execution_count": 19,
   "id": "f4cf7faa",
   "metadata": {},
   "outputs": [],
   "source": [
    "s=set([1,2,3,4,'deb','mishra'])"
   ]
  },
  {
   "cell_type": "code",
   "execution_count": 20,
   "id": "c49178f0",
   "metadata": {},
   "outputs": [
    {
     "data": {
      "text/plain": [
       "{1, 2, 3, 4, 'deb', 'mishra'}"
      ]
     },
     "execution_count": 20,
     "metadata": {},
     "output_type": "execute_result"
    }
   ],
   "source": [
    "s"
   ]
  },
  {
   "cell_type": "code",
   "execution_count": 21,
   "id": "ebb33013",
   "metadata": {},
   "outputs": [
    {
     "data": {
      "text/plain": [
       "set"
      ]
     },
     "execution_count": 21,
     "metadata": {},
     "output_type": "execute_result"
    }
   ],
   "source": [
    "type(s)"
   ]
  },
  {
   "cell_type": "code",
   "execution_count": 22,
   "id": "0f4c9296",
   "metadata": {},
   "outputs": [],
   "source": [
    "s={34,3.4,\"34\"}"
   ]
  },
  {
   "cell_type": "code",
   "execution_count": 23,
   "id": "d651a62b",
   "metadata": {},
   "outputs": [
    {
     "data": {
      "text/plain": [
       "{3.4, 34, '34'}"
      ]
     },
     "execution_count": 23,
     "metadata": {},
     "output_type": "execute_result"
    }
   ],
   "source": [
    "s"
   ]
  },
  {
   "cell_type": "code",
   "execution_count": 24,
   "id": "b2ab0a8f",
   "metadata": {},
   "outputs": [
    {
     "data": {
      "text/plain": [
       "set"
      ]
     },
     "execution_count": 24,
     "metadata": {},
     "output_type": "execute_result"
    }
   ],
   "source": [
    "type(s)"
   ]
  },
  {
   "cell_type": "markdown",
   "id": "0256e622",
   "metadata": {},
   "source": [
    "Q.4. What is an expression made up of? What do all expressions do?"
   ]
  },
  {
   "cell_type": "markdown",
   "id": "86cd3554",
   "metadata": {},
   "source": [
    "Ans: Expresion is combination of operator and operands, it interprets and produce some other value.If there is more than one operator in the expression then precedence decides which operation to be done first."
   ]
  },
  {
   "cell_type": "markdown",
   "id": "a1688f00",
   "metadata": {},
   "source": [
    "5. This assignment statements, like spam = 10. What is the difference between an expression and a statement?"
   ]
  },
  {
   "cell_type": "markdown",
   "id": "2ab7f5bc",
   "metadata": {},
   "source": [
    "Statement means when we execute something with help of variable and object, but it doesn't return anything. Where as expressions are combination of values and functions which interpreted by compiler to give some output/other value"
   ]
  },
  {
   "cell_type": "markdown",
   "id": "4f3ba5b0",
   "metadata": {},
   "source": [
    "6. After running the following code, what does the variable bacon contain?\n",
    "bacon = 22\n",
    "bacon + 1\n"
   ]
  },
  {
   "cell_type": "markdown",
   "id": "aedc8b2c",
   "metadata": {},
   "source": [
    "Ans: Value of bacon will be 22"
   ]
  },
  {
   "cell_type": "markdown",
   "id": "5176196b",
   "metadata": {},
   "source": [
    "7. What should the values of the following two terms be?\n",
    "'spam' + 'spamspam'\n",
    "'spam' * 3\n"
   ]
  },
  {
   "cell_type": "markdown",
   "id": "9588181a",
   "metadata": {},
   "source": [
    "Ans: i)'spam' + 'spamspam' will be 'spamspamspam'\n",
    "ii)'spam' * 3 will be 'spamspamspam'"
   ]
  },
  {
   "cell_type": "markdown",
   "id": "98fd50ae",
   "metadata": {},
   "source": [
    "8. Why is eggs a valid variable name while 100 is invalid?"
   ]
  },
  {
   "cell_type": "markdown",
   "id": "98a4ccc3",
   "metadata": {},
   "source": [
    "Ans: Variable name must start with letter or underscore that's why egg is a variable but variable should not start with number so 100 is not a variable "
   ]
  },
  {
   "cell_type": "markdown",
   "id": "cbb381be",
   "metadata": {},
   "source": [
    "9. What three functions can be used to get the integer, floating-point number, or string version of a value?"
   ]
  },
  {
   "cell_type": "markdown",
   "id": "f04a2651",
   "metadata": {},
   "source": [
    "Ans: int(), float(), str()"
   ]
  },
  {
   "cell_type": "markdown",
   "id": "86e4ea64",
   "metadata": {},
   "source": [
    "10. Why does this expression cause an error? How can you fix it?\n",
    "'I have eaten ' + 99 + ' burritos.'\n"
   ]
  },
  {
   "cell_type": "code",
   "execution_count": 25,
   "id": "6f35c93f",
   "metadata": {},
   "outputs": [
    {
     "ename": "TypeError",
     "evalue": "can only concatenate str (not \"int\") to str",
     "output_type": "error",
     "traceback": [
      "\u001b[0;31m---------------------------------------------------------------------------\u001b[0m",
      "\u001b[0;31mTypeError\u001b[0m                                 Traceback (most recent call last)",
      "\u001b[0;32m/var/folders/yc/p9d_23rd5sj81n0yjygd6mjm0000gn/T/ipykernel_13049/1774935878.py\u001b[0m in \u001b[0;36m<module>\u001b[0;34m\u001b[0m\n\u001b[0;32m----> 1\u001b[0;31m \u001b[0;34m'I have eaten '\u001b[0m \u001b[0;34m+\u001b[0m \u001b[0;36m99\u001b[0m \u001b[0;34m+\u001b[0m \u001b[0;34m' burritos.'\u001b[0m\u001b[0;34m\u001b[0m\u001b[0;34m\u001b[0m\u001b[0m\n\u001b[0m",
      "\u001b[0;31mTypeError\u001b[0m: can only concatenate str (not \"int\") to str"
     ]
    }
   ],
   "source": [
    "'I have eaten ' + 99 + ' burritos.'"
   ]
  },
  {
   "cell_type": "markdown",
   "id": "7eae2285",
   "metadata": {},
   "source": [
    "Ans: When we are concatenating we can't concatenate integer with string using + operator"
   ]
  },
  {
   "cell_type": "code",
   "execution_count": null,
   "id": "98993aa1",
   "metadata": {},
   "outputs": [],
   "source": []
  }
 ],
 "metadata": {
  "kernelspec": {
   "display_name": "Python 3 (ipykernel)",
   "language": "python",
   "name": "python3"
  },
  "language_info": {
   "codemirror_mode": {
    "name": "ipython",
    "version": 3
   },
   "file_extension": ".py",
   "mimetype": "text/x-python",
   "name": "python",
   "nbconvert_exporter": "python",
   "pygments_lexer": "ipython3",
   "version": "3.9.7"
  }
 },
 "nbformat": 4,
 "nbformat_minor": 5
}
