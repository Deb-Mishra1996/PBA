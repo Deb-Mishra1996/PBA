{
 "cells": [
  {
   "cell_type": "markdown",
   "id": "604c3896",
   "metadata": {},
   "source": [
    "Q.1. In the below elements which of them are values or an expression? eg:- values can be integer or string and expressions will be mathematical operators."
   ]
  },
  {
   "cell_type": "markdown",
   "id": "de16f6b5",
   "metadata": {},
   "source": [
    "#Values or an expression: 'hello', -87.8, 6 \n",
    "#Mathematical operator: *,-, /, +"
   ]
  },
  {
   "cell_type": "markdown",
   "id": "bb71fa97",
   "metadata": {},
   "source": [
    "Q.2. What is the difference between string and variable?"
   ]
  },
  {
   "cell_type": "markdown",
   "id": "e8687463",
   "metadata": {},
   "source": [
    "String: Strings in python are surrouded by single quote or double quote. These are array of bytes representing unicode characters. \n",
    "\n",
    "Variable: variables are used to point or refer an object. Data can be stored inside an object, we just assign the object to a variable variable and we can refer it by the name."
   ]
  },
  {
   "cell_type": "markdown",
   "id": "35cab865",
   "metadata": {},
   "source": [
    "a='5' #a=variable"
   ]
  },
  {
   "cell_type": "markdown",
   "id": "a9c0ccf0",
   "metadata": {},
   "source": [
    "type(a)"
   ]
  },
  {
   "cell_type": "markdown",
   "id": "adde6b54",
   "metadata": {},
   "source": [
    "Q.3. Describe three different data types."
   ]
  },
  {
   "cell_type": "markdown",
   "id": "d3a7704f",
   "metadata": {},
   "source": [
    "List:\n",
    "i)List are ordered collection of data and list in python can be created by just putting square bracket around group of elements and the elements can be anything as integer, float or string.\n",
    "ii)To access the list items we can use index, either positive or negetive both will work. We would be able to change the element within a list that's why the list is called as mutable data type.\n"
   ]
  },
  {
   "cell_type": "code",
   "execution_count": 1,
   "id": "52f32fc3",
   "metadata": {},
   "outputs": [],
   "source": [
    "L=[1,2,3,\"deb\",\"Mishra\"]"
   ]
  },
  {
   "cell_type": "code",
   "execution_count": 2,
   "id": "92e8eacf",
   "metadata": {},
   "outputs": [],
   "source": [
    "L[0]=\"name\""
   ]
  },
  {
   "cell_type": "markdown",
   "id": "bc745d69",
   "metadata": {},
   "source": [
    "L[-2]"
   ]
  },
  {
   "cell_type": "code",
   "execution_count": 13,
   "id": "8a9be3f0",
   "metadata": {},
   "outputs": [
    {
     "data": {
      "text/plain": [
       "'name'"
      ]
     },
     "execution_count": 13,
     "metadata": {},
     "output_type": "execute_result"
    }
   ],
   "source": [
    "L[0]"
   ]
  },
  {
   "cell_type": "markdown",
   "id": "4a46dec6",
   "metadata": {},
   "source": [
    "Tuple:\n",
    "i)Tuple are ordered collection so we would be able to find the element through indexing.\n",
    "ii)We would be able to create a tuple by separating data with comma. paranthesis is not a mandatory option, without paranthesis also it will be a tuple.\n",
    "iii)Tuples are immutable and we would not be able to modify the items inside a tuple\n"
   ]
  },
  {
   "cell_type": "code",
   "execution_count": 14,
   "id": "eca44863",
   "metadata": {},
   "outputs": [],
   "source": [
    "t=1,2,3,4,5"
   ]
  },
  {
   "cell_type": "code",
   "execution_count": 16,
   "id": "37236d55",
   "metadata": {},
   "outputs": [
    {
     "data": {
      "text/plain": [
       "tuple"
      ]
     },
     "execution_count": 16,
     "metadata": {},
     "output_type": "execute_result"
    }
   ],
   "source": [
    "type(t)"
   ]
  },
  {
   "cell_type": "code",
   "execution_count": 18,
   "id": "7eada1a5",
   "metadata": {},
   "outputs": [
    {
     "name": "stdout",
     "output_type": "stream",
     "text": [
      "We would not be able to assign items to tuple\n"
     ]
    }
   ],
   "source": [
    "#We would not be able to assign elements as tuples are immutable\n",
    "try:\n",
    "    t[2]=0\n",
    "except Exception as e:\n",
    "    print('We would not be able to assign items to tuple')"
   ]
  },
  {
   "cell_type": "markdown",
   "id": "97b74f59",
   "metadata": {},
   "source": [
    "Set:\n",
    "1)Set is unordered collection of data types which is iterable, mutable and it has no duplicate elements.\n",
    "2)We would be able to create a set by set function or by placing a sequesnce inside curly brackets\n",
    "3)Type of element inside a set can be different."
   ]
  },
  {
   "cell_type": "code",
   "execution_count": 19,
   "id": "4f713659",
   "metadata": {},
   "outputs": [],
   "source": [
    "s=set([1,2,3,4,'deb','mishra'])"
   ]
  },
  {
   "cell_type": "code",
   "execution_count": 20,
   "id": "4535b9d6",
   "metadata": {},
   "outputs": [
    {
     "data": {
      "text/plain": [
       "{1, 2, 3, 4, 'deb', 'mishra'}"
      ]
     },
     "execution_count": 20,
     "metadata": {},
     "output_type": "execute_result"
    }
   ],
   "source": [
    "s"
   ]
  },
  {
   "cell_type": "code",
   "execution_count": 21,
   "id": "51fadcb4",
   "metadata": {},
   "outputs": [
    {
     "data": {
      "text/plain": [
       "set"
      ]
     },
     "execution_count": 21,
     "metadata": {},
     "output_type": "execute_result"
    }
   ],
   "source": [
    "type(s)"
   ]
  },
  {
   "cell_type": "code",
   "execution_count": 22,
   "id": "be006551",
   "metadata": {},
   "outputs": [],
   "source": [
    "s={34,3.4,\"34\"}"
   ]
  },
  {
   "cell_type": "code",
   "execution_count": 23,
   "id": "77479d2d",
   "metadata": {},
   "outputs": [
    {
     "data": {
      "text/plain": [
       "{3.4, 34, '34'}"
      ]
     },
     "execution_count": 23,
     "metadata": {},
     "output_type": "execute_result"
    }
   ],
   "source": [
    "s"
   ]
  },
  {
   "cell_type": "code",
   "execution_count": 24,
   "id": "37f8c701",
   "metadata": {},
   "outputs": [
    {
     "data": {
      "text/plain": [
       "set"
      ]
     },
     "execution_count": 24,
     "metadata": {},
     "output_type": "execute_result"
    }
   ],
   "source": [
    "type(s)"
   ]
  },
  {
   "cell_type": "markdown",
   "id": "5a40b5c4",
   "metadata": {},
   "source": [
    "Q.4. What is an expression made up of? What do all expressions do?"
   ]
  },
  {
   "cell_type": "markdown",
   "id": "e8a4bed2",
   "metadata": {},
   "source": [
    "Ans: Expresion is combination of operator and operands, it interprets and produce some other value.If there is more than one operator in the expression then precedence decides which operation to be done first."
   ]
  },
  {
   "cell_type": "markdown",
   "id": "6d966a49",
   "metadata": {},
   "source": [
    "Q.5. This assignment statements, like spam = 10. What is the difference between an expression and a statement?"
   ]
  },
  {
   "cell_type": "markdown",
   "id": "412b0674",
   "metadata": {},
   "source": [
    "Statement means when we execute something with help of variable and object, but it doesn't return anything. Where as expressions are combination of values and functions which interpreted by compiler to give some output/other value"
   ]
  },
  {
   "cell_type": "markdown",
   "id": "f855dfba",
   "metadata": {},
   "source": [
    "Q.6. After running the following code, what does the variable bacon contain?\n",
    "bacon = 22\n",
    "bacon + 1\n"
   ]
  },
  {
   "cell_type": "markdown",
   "id": "76e244fe",
   "metadata": {},
   "source": [
    "Ans: Value of bacon will be 22"
   ]
  },
  {
   "cell_type": "markdown",
   "id": "383db3c6",
   "metadata": {},
   "source": [
    "Q.7. What should the values of the following two terms be?\n",
    "'spam' + 'spamspam'\n",
    "'spam' * 3\n"
   ]
  },
  {
   "cell_type": "markdown",
   "id": "d5869ed3",
   "metadata": {},
   "source": [
    "Ans: i)'spam' + 'spamspam' will be 'spamspamspam'\n",
    "ii)'spam' * 3 will be 'spamspamspam'"
   ]
  },
  {
   "cell_type": "markdown",
   "id": "893ca16e",
   "metadata": {},
   "source": [
    "Q.8. Why is eggs a valid variable name while 100 is invalid?"
   ]
  },
  {
   "cell_type": "markdown",
   "id": "7e39523b",
   "metadata": {},
   "source": [
    "Ans: Variable name must start with letter or underscore that's why egg is a variable but variable should not start with number so 100 is not a variable "
   ]
  },
  {
   "cell_type": "markdown",
   "id": "1555560a",
   "metadata": {},
   "source": [
    "Q.9. What three functions can be used to get the integer, floating-point number, or string version of a value?"
   ]
  },
  {
   "cell_type": "markdown",
   "id": "c94347cd",
   "metadata": {},
   "source": [
    "Ans: int(), float(), str()"
   ]
  },
  {
   "cell_type": "markdown",
   "id": "19200cec",
   "metadata": {},
   "source": [
    "Q.10. Why does this expression cause an error? How can you fix it?\n",
    "'I have eaten ' + 99 + ' burritos.'\n"
   ]
  },
  {
   "cell_type": "code",
   "execution_count": 25,
   "id": "462aebb7",
   "metadata": {},
   "outputs": [
    {
     "ename": "TypeError",
     "evalue": "can only concatenate str (not \"int\") to str",
     "output_type": "error",
     "traceback": [
      "\u001b[0;31m---------------------------------------------------------------------------\u001b[0m",
      "\u001b[0;31mTypeError\u001b[0m                                 Traceback (most recent call last)",
      "\u001b[0;32m/var/folders/yc/p9d_23rd5sj81n0yjygd6mjm0000gn/T/ipykernel_13049/1774935878.py\u001b[0m in \u001b[0;36m<module>\u001b[0;34m\u001b[0m\n\u001b[0;32m----> 1\u001b[0;31m \u001b[0;34m'I have eaten '\u001b[0m \u001b[0;34m+\u001b[0m \u001b[0;36m99\u001b[0m \u001b[0;34m+\u001b[0m \u001b[0;34m' burritos.'\u001b[0m\u001b[0;34m\u001b[0m\u001b[0;34m\u001b[0m\u001b[0m\n\u001b[0m",
      "\u001b[0;31mTypeError\u001b[0m: can only concatenate str (not \"int\") to str"
     ]
    }
   ],
   "source": [
    "'I have eaten ' + 99 + ' burritos.'"
   ]
  },
  {
   "cell_type": "markdown",
   "id": "43fbc237",
   "metadata": {},
   "source": [
    "Ans: When we are concatenating we can't concatenate integer with string using + operator"
   ]
  },
  {
   "cell_type": "code",
   "execution_count": null,
   "id": "7576d54d",
   "metadata": {},
   "outputs": [],
   "source": []
  }
 ],
 "metadata": {
  "kernelspec": {
   "display_name": "Python 3 (ipykernel)",
   "language": "python",
   "name": "python3"
  },
  "language_info": {
   "codemirror_mode": {
    "name": "ipython",
    "version": 3
   },
   "file_extension": ".py",
   "mimetype": "text/x-python",
   "name": "python",
   "nbconvert_exporter": "python",
   "pygments_lexer": "ipython3",
   "version": "3.9.7"
  }
 },
 "nbformat": 4,
 "nbformat_minor": 5
}
